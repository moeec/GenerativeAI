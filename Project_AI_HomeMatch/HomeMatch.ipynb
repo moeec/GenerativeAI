{
 "cells": [
  {
   "cell_type": "markdown",
   "id": "a108af04",
   "metadata": {},
   "source": [
    "This is a starter notebook for the project, you'll have to import the libraries you'll need, you can find a list of the ones available in this workspace in the requirements.txt file in this workspace. "
   ]
  },
  {
   "cell_type": "code",
   "execution_count": 3,
   "id": "6554fd4c",
   "metadata": {},
   "outputs": [
    {
     "name": "stderr",
     "output_type": "stream",
     "text": [
      "/opt/conda/lib/python3.10/site-packages/langchain/llms/openai.py:202: UserWarning: You are trying to use a chat model. This way of initializing it is no longer supported. Instead, please use: `from langchain.chat_models import ChatOpenAI`\n",
      "  warnings.warn(\n",
      "/opt/conda/lib/python3.10/site-packages/langchain/llms/openai.py:790: UserWarning: You are trying to use a chat model. This way of initializing it is no longer supported. Instead, please use: `from langchain.chat_models import ChatOpenAI`\n",
      "  warnings.warn(\n"
     ]
    },
    {
     "name": "stdout",
     "output_type": "stream",
     "text": [
      "Generated Database: \n",
      "1. Neighborhood: Willow Creek\n",
      "Price: $650,000\n",
      "Bedrooms: 4\n",
      "Bathrooms: 3\n",
      "House Size: 2,500 sqft\n",
      "\n",
      "Description: This spacious 4-bedroom, 3-bathroom home in Willow Creek is perfect for a growing family. \n",
      "Featuring a large backyard with a deck and plenty of room for outdoor entertaining, this home is \n",
      "ideal for those who love to host gatherings. The open-concept kitchen and living area provide a \n",
      "warm and inviting space for family time. Don't miss out on this charming home in Willow Creek.\n",
      "\n",
      "Neighborhood Description: Willow Creek is a family-friendly neighborhood with top-rated schools, \n",
      "parks, and community events. Enjoy the convenience of nearby shopping centers and restaurants, \n",
      "as well as easy access to major highways for commuting.\n",
      "\n",
      "2. Neighborhood: Oak Ridge\n",
      "Price: $900,000\n",
      "Bedrooms: 5\n",
      "Bathrooms: 4\n",
      "House Size: 3,000 sqft\n",
      "\n",
      "Description: Welcome to this stunning 5-bedroom, 4-bathroom home in the prestigious Oak Ridge neighborhood. \n",
      "With high-end finishes and modern amenities, this home is perfect for those who appreciate luxury living. \n",
      "The gourmet kitchen features stainless steel appliances and a large island, perfect for entertaining. \n",
      "The spacious master suite includes a walk-in closet and a spa-like bathroom. Don't miss out on this \n",
      "opportunity to own a piece of luxury in Oak Ridge.\n",
      "\n",
      "Neighborhood Description: Oak Ridge is known for its upscale homes, tree-lined streets, and \n",
      "proximity to golf courses and country clubs. Enjoy the peaceful surroundings and \n",
      "close-knit community feel of Oak Ridge.\n",
      "\n",
      "3. Neighborhood: Maple Grove\n",
      "Price: $750,000\n",
      "Bedrooms: 4\n",
      "Bathrooms: 3\n",
      "House Size: 2,300 sqft\n",
      "\n",
      "Description: This charming 4-bedroom, 3-bathroom home in Maple Grove is full of character and \n",
      "charm. The cozy living room features a fireplace and hardwood floors, perfect for relaxing \n",
      "on a cold winter night. The updated kitchen boasts granite countertops and stainless steel \n",
      "appliances, making it a chef's dream. The backyard oasis includes a patio and lush landscaping, \n",
      "ideal for outdoor entertaining. Don't miss out on this gem in Maple Grove.\n",
      "\n",
      "Neighborhood Description: Maple Grove is a quaint neighborhood with tree-lined streets and \n",
      "friendly neighbors. Enjoy the nearby parks, walking trails, and local shops\n"
     ]
    }
   ],
   "source": [
    "import os\n",
    "\n",
    "os.environ[\"OPENAI_API_KEY\"] = \"API_KEY\"\n",
    "os.environ[\"OPENAI_API_BASE\"] = \"https://openai.vocareum.com/v1\"\n",
    "\n",
    "from langchain.llms import OpenAI\n",
    "from langchain.chat_models import ChatOpenAI\n",
    "\n",
    "\n",
    "model_name = \"gpt-3.5-turbo\"\n",
    "temperature = 0.0\n",
    "llm = OpenAI(model_name=model_name, temperature=temperature, max_tokens = 500)\n",
    "\n",
    "instruction = \"\"\"\n",
    "Generate 25 Real Estate lisitngs with the following fields: Neighbor, Price, Bedrroms, House Size, Description, Neighborhood Description.\n",
    "Follow this format\n",
    "Neighborhood: Green Oaks\n",
    "Price: $800,000\n",
    "Bedrooms: 3\n",
    "Bathrooms: 2\n",
    "House Size: 2,000 sqft\n",
    "\n",
    "Description: Welcome to this eco-friendly oasis nestled in the heart of Green Oaks. \n",
    "This charming 3-bedroom, 2-bathroom home boasts energy-efficient features such as solar panels \n",
    "and a well-insulated structure. Natural light floods the living spaces, highlighting the beautiful \n",
    "hardwood floors and eco-conscious finishes. The open-concept kitchen and dining area lead to a spacious \n",
    "backyard with a vegetable garden, perfect for the eco-conscious family. Embrace sustainable living without \n",
    "compromising on style in this Green Oaks gem.\n",
    "\n",
    "Neighborhood Description: Green Oaks is a close-knit, environmentally-conscious community with access to \n",
    "organic grocery stores, community gardens, and bike paths. Take a stroll through the nearby Green Oaks Park\n",
    "or grab a cup of coffee at the cozy Green Bean Cafe. With easy access to public transportation and bike lanes, \n",
    "commuting is a breeze.\n",
    "\"\"\"\n",
    "\n",
    "print(\"Generated Database: \")\n",
    "print(llm(instruction))\n",
    "\n",
    "#questions = [   \n",
    "              #  \"How big do you want your house to be?\" \n",
    "              #  \"What are 3 most important things for you in choosing this property?\", \n",
    "              #  \"Which amenities would you like?\", \n",
    "              #  \"Which transportation options are important to you?\",\n",
    "              #  \"How urban do you want your neighborhood to be?\",   \n",
    "            #]"
   ]
  },
  {
   "cell_type": "code",
   "execution_count": null,
   "id": "615bd819",
   "metadata": {},
   "outputs": [],
   "source": []
  },
  {
   "cell_type": "code",
   "execution_count": null,
   "id": "188c6ef9",
   "metadata": {},
   "outputs": [],
   "source": []
  }
 ],
 "metadata": {
  "kernelspec": {
   "display_name": "Python 3 (ipykernel)",
   "language": "python",
   "name": "python3"
  },
  "language_info": {
   "codemirror_mode": {
    "name": "ipython",
    "version": 3
   },
   "file_extension": ".py",
   "mimetype": "text/x-python",
   "name": "python",
   "nbconvert_exporter": "python",
   "pygments_lexer": "ipython3",
   "version": "3.10.11"
  }
 },
 "nbformat": 4,
 "nbformat_minor": 5
}
