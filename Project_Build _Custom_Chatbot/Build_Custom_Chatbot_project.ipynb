{
 "cells": [
  {
   "cell_type": "markdown",
   "id": "124e5672",
   "metadata": {},
   "source": [
    "# Custom Chatbot Project"
   ]
  },
  {
   "cell_type": "markdown",
   "id": "2a4a94b3",
   "metadata": {},
   "source": [
    "TODO: In this cell, write an explanation of which dataset you have chosen and why it is appropriate for this task"
   ]
  },
  {
   "cell_type": "markdown",
   "id": "a63d4c5f",
   "metadata": {},
   "source": [
    "## Data Wrangling\n",
    "\n",
    "TODO: In the cells below, load your chosen dataset into a `pandas` dataframe with a column named `\"text\"`. This column should contain all of your text data, separated into at least 20 rows."
   ]
  },
  {
   "cell_type": "code",
   "execution_count": 1,
   "id": "c69b83a1",
   "metadata": {},
   "outputs": [],
   "source": [
    "import pandas as pd\n",
    "import openai\n",
    "import requests\n",
    "from scipy.spatial import distance\n",
    "from openai.embeddings_utils import distances_from_embeddings\n",
    "from openai.embeddings_utils import get_embedding \n",
    "import tiktoken\n",
    "\n",
    "\n",
    "openai.api_key =  \"API_KEY\"\n",
    "openai.api_base = \"https://openai.vocareum.com/v1\" # Remove this if using personal key"
   ]
  },
  {
   "cell_type": "code",
   "execution_count": 2,
   "id": "0a595980",
   "metadata": {},
   "outputs": [],
   "source": [
    "# Load Data from Wikipedia using API; this can be skipped if you have alread y saved text.csv\n",
    "\n",
    "params = {\n",
    "    \"action\": \"query\", \n",
    "    \"prop\": \"extracts\",\n",
    "    \"exlimit\": 1,\n",
    "    \"titles\": \"Synthesizer\",\n",
    "    \"explaintext\": 1,\n",
    "    \"formatversion\": 2,\n",
    "    \"format\": \"json\"\n",
    "}\n",
    "resp = requests.get(\"https://en.wikipedia.org/w/api.php\", params=params)\n",
    "response_dict = resp.json()\n",
    "\n",
    "#response_dict \n",
    "text_data = response_dict[\"query\"][\"pages\"][0][\"extract\"].split(\"\\n\")\n",
    "#leaving older code that was used for clean up above for learnings.\n",
    "#response = requests.get(\"https://en.wikipedia.org/w/api.php?action=query&format=json&prop=revisions&rvprop=content&titles=Synthesizer&rvslots=*\")\n",
    "#response.json()[\"query\"][\"pages\"][\"10791746\"][\"revisions\"][0][\"slots\"][\"main\"][\"*\"].split(\"\\n\")"
   ]
  },
  {
   "cell_type": "code",
   "execution_count": 3,
   "id": "acb3a9fd",
   "metadata": {},
   "outputs": [],
   "source": [
    "# Load page text into a dataframe this can be skipped if you have alread y saved text.csv\n",
    "df = pd.DataFrame()\n",
    "df[\"text\"] = text_data\n",
    "# Clean up text to remove empty lines and headings; this can be skipped if you have already saved text.csv\n",
    "df = df[(df[\"text\"].str.len() > 0) & (~df[\"text\"].str.startswith(\"==\"))]"
   ]
  },
  {
   "cell_type": "markdown",
   "id": "ae769871",
   "metadata": {},
   "source": [
    "## Custom Query Completion\n",
    "\n",
    "TODO: In the cells below, compose a custom query using your chosen dataset and retrieve results from an OpenAI `Completion` model. You may copy and paste any useful code from the course materials."
   ]
  },
  {
   "cell_type": "code",
   "execution_count": 4,
   "id": "582f0656",
   "metadata": {},
   "outputs": [],
   "source": [
    "# this can be skipped if you have already saved text.csv\n",
    "\n",
    "# For Debug\n",
    "#df\n",
    "\n",
    "# Save to CSV\n",
    "df.to_csv('text.csv', index=False)\n",
    "\n",
    "# Load csv if saved; start here (After loading required libraries) if you have a text.csv\n",
    "# df = pd.read_csv('text.csv', index_col=0) \n",
    "# Load Embedding Model / Engine \n",
    "EMBEDDING_MODEL_NAME = \"text-embedding-ada-002\"\n",
    "response = openai.Embedding.create(\n",
    "    input=df[\"text\"].tolist(),\n",
    "    model=EMBEDDING_MODEL_NAME\n",
    ")"
   ]
  },
  {
   "cell_type": "code",
   "execution_count": 5,
   "id": "8b6e1f75",
   "metadata": {},
   "outputs": [
    {
     "name": "stdout",
     "output_type": "stream",
     "text": [
      "[-0.024538422003388405, -0.014351220801472664, -0.01926654577255249, -0.007525795139372349, -0.01990324631333351, 0.02309948019683361, -0.028676973655819893, 0.0024958644062280655, -0.026486724615097046, -0.004390047397464514, 0.02814214490354061, 0.022806597873568535, -0.026894211769104004, 0.001149243675172329, 0.01446582656353712, -0.0007127061835490167, 0.029670225456357002, -0.009512299671769142, 0.007264748215675354, -0.03150392323732376]\n"
     ]
    }
   ],
   "source": [
    "# Extract and print the first 20 numbers in the embedding\n",
    "response_list = response[\"data\"]\n",
    "first_item = response_list[0]\n",
    "first_item_embedding = first_item[\"embedding\"]\n",
    "print(first_item_embedding[:20])\n",
    "len(first_item_embedding)\n",
    "\n",
    "embeddings = [data[\"embedding\"] for data in response[\"data\"]]\n",
    "\n",
    "# used to check embedding made, used for debug\n",
    "# embeddings"
   ]
  },
  {
   "cell_type": "code",
   "execution_count": 6,
   "id": "13f2dcd7",
   "metadata": {},
   "outputs": [],
   "source": [
    "# Add embeddings list to dataframe\n",
    "df[\"embeddings\"] = embeddings\n",
    "\n",
    "#for debug\n",
    "#df\n",
    "\n",
    "# Save embeddings\n",
    "df.to_csv(\"embeddings.csv\")"
   ]
  },
  {
   "cell_type": "code",
   "execution_count": 7,
   "id": "c403f543",
   "metadata": {},
   "outputs": [],
   "source": [
    "def get_rows_sorted_by_relevance(question, df):\n",
    "    \"\"\"\n",
    "    Function that takes in a question string and a dataframe containing\n",
    "    rows of text and associated embeddings, and returns that dataframe\n",
    "    sorted from least to most relevant for that question\n",
    "    \"\"\"\n",
    "\n",
    "    # Get embeddings for the question text\n",
    "    question_embeddings = get_embedding(question, engine=EMBEDDING_MODEL_NAME)\n",
    "\n",
    "    # Make a copy of the dataframe and add a \"distances\" column containing\n",
    "    # the cosine distances between each row's embeddings and the\n",
    "    # embeddings of the question\n",
    "    df_copy = df.copy()\n",
    "    df_copy[\"distances\"] = distances_from_embeddings(\n",
    "        question_embeddings,\n",
    "        df_copy[\"embeddings\"].values,\n",
    "        distance_metric=\"cosine\"\n",
    "    )\n",
    "\n",
    "    # Sort the copied dataframe by the distances and return it\n",
    "    # (shorter distance = more relevant so we sort in ascending order)\n",
    "    df_copy.sort_values(\"distances\", ascending=True, inplace=True)\n",
    "    return df_copy\n",
    "    \n",
    "\n"
   ]
  },
  {
   "cell_type": "code",
   "execution_count": 8,
   "id": "74280b92",
   "metadata": {},
   "outputs": [],
   "source": [
    "#df[\"embeddings\"] = df[\"embeddings\"].apply(eval).apply(np.array)\n",
    "#df\n",
    "\n",
    "def create_prompt(question, df, max_token_count):\n",
    "    \"\"\"\n",
    "    Given a question and a dataframe containing rows of text and their\n",
    "    embeddings, return a text prompt to send to a Completion model\n",
    "    \"\"\"\n",
    "    # Create a tokenizer that is designed to align with our embeddings\n",
    "    tokenizer = tiktoken.get_encoding(\"cl100k_base\")\n",
    "\n",
    "    # Count the number of tokens in the prompt template and question\n",
    "    prompt_template = \"\"\"\n",
    "    Answer the question based on the context below, and if the question\n",
    "    can't be answered based on the context, say \"I don't know\"\n",
    "\n",
    "    Context: \n",
    "\n",
    "    {}\n",
    "\n",
    "    ---\n",
    "\n",
    "    Question: {}\n",
    "    Answer:\"\"\"\n",
    "\n",
    "    current_token_count = len(tokenizer.encode(prompt_template)) + \\\n",
    "                            len(tokenizer.encode(question))\n",
    "\n",
    "    context = []\n",
    "    for text in get_rows_sorted_by_relevance(question, df)[\"text\"].values:\n",
    "\n",
    "        # Increase the counter based on the number of tokens in this row\n",
    "        text_token_count = len(tokenizer.encode(text))\n",
    "        current_token_count += text_token_count\n",
    "\n",
    "        # Add the row of text to the list if we haven't exceeded the max\n",
    "        if current_token_count <= max_token_count:\n",
    "            context.append(text)\n",
    "        else:\n",
    "            break\n",
    "\n",
    "    return prompt_template.format(\"\\n\\n###\\n\\n\".join(context), question)"
   ]
  },
  {
   "cell_type": "markdown",
   "id": "1783f146",
   "metadata": {},
   "source": [
    "## Custom Performance Demonstration\n",
    "\n",
    "TODO: In the cells below, demonstrate the performance of your custom query using at least 2 questions. For each question, show the answer from a basic `Completion` model query as well as the answer from your custom query."
   ]
  },
  {
   "cell_type": "markdown",
   "id": "4f11fdc0",
   "metadata": {},
   "source": [
    "### Question 1"
   ]
  },
  {
   "cell_type": "code",
   "execution_count": 9,
   "id": "4901c850",
   "metadata": {},
   "outputs": [
    {
     "data": {
      "text/plain": [
       "'\\n    Answer the question based on the context below, and if the question\\n    can\\'t be answered based on the context, say \"I don\\'t know\"\\n\\n    Context: \\n\\n    Synthesizers generate audio through various forms of analog and digital synthesis.\\n\\n###\\n\\nSynthesizers are often controlled with electronic or digital keyboards or MIDI controller keyboards, which may be built into the synthesizer unit or attached via connections such as CV/gate, USB, or MIDI. Keyboards may offer expression such as velocity sensitivity and aftertouch, allowing for more control over the sound. Other controllers include ribbon controllers, which track the movement of the finger across a touch-sensitive surface; wind controllers, played similarly to woodwind instruments; motion-sensitive controllers similar to video game motion controllers; electronic drum pads, played similarly to the heads of a drum kit; touchplates, which send signals depending on finger position and force; controllers designed for microtonal tunings; touchscreen devices such as tablets and smartphones; and fingerpads.\\n\\n###\\n\\nA synthesizer (also synthesiser or synth) is an electronic musical instrument that generates audio signals. Synthesizers typically create sounds by generating waveforms through methods including subtractive synthesis, additive synthesis and frequency modulation synthesis. These sounds may be altered by components such as filters, which cut or boost frequencies; envelopes, which control articulation, or how notes begin and end; and low-frequency oscillators, which modulate parameters such as pitch, volume, or filter characteristics affecting timbre. Synthesizers are typically played with keyboards or controlled by sequencers, software or other instruments, and may be synchronized to other equipment via MIDI.\\n\\n###\\n\\nIn sample-based synthesis, instead of sounds being created by synthesizers, samples (digital recordings of sounds) are played back and shaped with components such as filters, envelopes and LFOs.\\n\\n###\\n\\nSound Synthesis Theory wikibook\\n\\n###\\n\\nDigital synthesizers typically contained preset sounds emulating acoustic instruments, with algorithms controlled with menus and buttons. The Synclavier, made with FM technology licensed from Yamaha, offered features such as 16-bit sampling and digital recording. With a starting price of $13,000, its use was limited to universities, studios and wealthy artists. The Roland D-50 (1987) blended Roland\\'s linear arithmetic algorithm with samples, and was the first mass-produced synthesizer with built-in digital effects such as delay, reverb and chorus.:\\u200a63\\u200a In 1988, the Japanese manufacturer Korg released the M1, a digital synthesizer workstation featuring sampled transients and loops. With more than 250,000 units sold, it remains the bestselling synthesizer in history. The advent of digital synthesizers led to a downturn in interest in analog synthesizers in the following decade.:\\u200a59\\u200a\\n\\n###\\n\\nIn wavetable synthesis, synthesizers modulate smoothly between digital representations of different waveforms, changing the shape and timbre.\\n\\n###\\n\\nOscillators produce waveforms (such as sawtooth, sine, or pulse waves) with different timbres.\\n\\n###\\n\\nIn additive synthesis, a large number of waveforms, usually sine waves, are combined into a composite sound.\\n\\n###\\n\\nEarly synthesizers were monophonic, meaning they could only play one note at a time. Some of the earliest commercial polyphonic synthesizers were created by the American engineer Tom Oberheim, such as the OB-X (1979). In 1978, the American company Sequential Circuits released the Prophet-5, the first fully programmable polyphonic synthesizer.:\\u200a93\\u200a Whereas previous synthesizers required users to adjust cables and knobs to change sounds, with no guarantee of exactly recreating a sound, the Prophet-5 used microprocessors to store sounds in patch memory. This facilitated a move from synthesizers creating unpredictable sounds to producing \"a standard package of familiar sounds\".:\\u200a385\\u200a\\n\\n###\\n\\nIn 1978, Sequential Circuits released the Prophet-5, which used microprocessors to allow users to store sounds for the first time. MIDI, a standardized means of synchronizing electronic instruments, was introduced in 1982 and remains an industry standard. The Yamaha DX7, launched in 1983, was a major success and popularized digital synthesis. Software synthesizers now can be run as plug-ins or embedded on microchips. In the 21st century, analog synthesizers returned to popularity with the advent of cheaper manufacturing and the increasing popularity of synthwave music starting in the 2010s.\\n\\n    ---\\n\\n    Question: What components are used to altered by sounds on a Synthesizer\\n    Answer:'"
      ]
     },
     "execution_count": 9,
     "metadata": {},
     "output_type": "execute_result"
    }
   ],
   "source": [
    "max_token_count = 1000\n",
    "question = \"What components are used to altered by sounds on a Synthesizer\"\n",
    "create_prompt(question, df, max_token_count)\n",
    "\n",
    "\n",
    "\n"
   ]
  },
  {
   "cell_type": "code",
   "execution_count": 10,
   "id": "bd7a093b",
   "metadata": {},
   "outputs": [
    {
     "name": "stdout",
     "output_type": "stream",
     "text": [
      " Components such as filters, envelopes,\n"
     ]
    }
   ],
   "source": [
    "response = openai.Completion.create(\n",
    "  model=\"gpt-3.5-turbo-instruct\",\n",
    "  prompt=create_prompt(question, df, max_token_count),\n",
    "  max_tokens=7,\n",
    "  temperature=0\n",
    ")\n",
    "\n",
    "print(response[\"choices\"][0][\"text\"])"
   ]
  },
  {
   "cell_type": "markdown",
   "id": "6e86e37c",
   "metadata": {},
   "source": [
    "### Question 2"
   ]
  },
  {
   "cell_type": "code",
   "execution_count": 11,
   "id": "6f646989",
   "metadata": {},
   "outputs": [
    {
     "data": {
      "text/plain": [
       "'\\n    Answer the question based on the context below, and if the question\\n    can\\'t be answered based on the context, say \"I don\\'t know\"\\n\\n    Context: \\n\\n    In the 1970s, electronic music composers such as Jean Michel Jarre and Isao Tomita released successful synthesizer-led instrumental albums. This influenced the emergence of synth-pop from the late 1970s to the early 1980s. The work of German krautrock bands such as Kraftwerk and Tangerine Dream, British acts such as John Foxx, Gary Numan and David Bowie, African-American acts such as George Clinton and Zapp, and Japanese electronic acts such as Yellow Magic Orchestra and Kitaro were influential in the development of the genre.\\n\\n###\\n\\nSynthesizers were initially viewed as avant-garde, valued by the 1960s psychedelic and countercultural scenes but with little perceived commercial potential. Switched-On Bach (1968), a bestselling album of Bach compositions arranged for synthesizer by Wendy Carlos, took synthesizers to the mainstream. They were adopted by electronic acts and pop and rock groups in the 1960s and 1970s and were widely used in 1980s music. Sampling, introduced with the Fairlight synthesizer in 1979, has influenced genres such as electronic and hip hop music. Today, the synthesizer is used in nearly every genre of music and is considered one of the most important instruments in the music industry. According to Fact in 2016, \"The synthesizer is as important, and as ubiquitous, in modern music today as the human voice.\"\\n\\n###\\n\\nEarly synthesizers were viewed as avant-garde, valued by the 1960s psychedelic and counter-cultural scenes for their ability to make new sounds, but with little perceived commercial potential. Switched-On Bach (1968), a bestselling album of Bach compositions arranged for Moog synthesizer by Wendy Carlos, demonstrated that synthesizers could be more than \"random noise machines\", taking them to the mainstream. However, debates were held about the appropriateness of synthesizers in baroque music, and according to the Guardian they were quickly abandoned in \"serious classical circles\".\\n\\n###\\n\\nThe Minimoog took a place in mainstream African-American music, most notably in the work of Stevie Wonder, and in jazz, such as the work of Sun Ra. In the late 1970s and the early 1980s, the Minimoog was widely used in the emerging disco genre by artists including Abba and Giorgio Moroder. Sampling, introduced with the Fairlight synthesizer in 1979, has influenced all genres of music and had a major influence on the development of electronic and hip hop music.\\n\\n###\\n\\nSynthesizers generate audio through various forms of analog and digital synthesis.\\n\\n###\\n\\nGary Numan\\'s 1979 hits \"Are \\'Friends\\' Electric?\" and \"Cars\" made heavy use of synthesizers. OMD\\'s \"Enola Gay\" (1980) used distinctive electronic percussion and a synthesized melody. Soft Cell used a synthesized melody on their 1981 hit \"Tainted Love\". Nick Rhodes, the keyboardist of Duran Duran, used synthesizers including the Roland Jupiter-4 and Jupiter-8. Chart hits include Depeche Mode\\'s \"Just Can\\'t Get Enough\" (1981), the Human League\\'s \"Don\\'t You Want Me\" and works by Ultravox.\\n\\n###\\n\\nSynthesizers are common in film and television soundtracks.:\\u200a273\\u200a In 1969, Mort Garson used a Moog to compose a soundtrack for the televised footage of the Apollo 11 moonwalk, creating a link between electronic music and space in the American popular imagination. ARP synthesizers were used to create sound effects for the 1977 science fiction films Close Encounters of the Third Kind:\\u200a9\\u200a and Star Wars, including the \"voice\" of the robot R2-D2.:\\u200a273\\u200a \\n\\n    ---\\n\\n    Question: What music genres have been influenced by the Synthesizer?\\n    Answer:'"
      ]
     },
     "execution_count": 11,
     "metadata": {},
     "output_type": "execute_result"
    }
   ],
   "source": [
    "max_token_count = 1000\n",
    "question = \"What music genres have been influenced by the Synthesizer?\"\n",
    "create_prompt(question, df, max_token_count)"
   ]
  },
  {
   "cell_type": "code",
   "execution_count": 12,
   "id": "11c07a54",
   "metadata": {},
   "outputs": [
    {
     "name": "stdout",
     "output_type": "stream",
     "text": [
      " Electronic, hip hop, disco,\n"
     ]
    }
   ],
   "source": [
    "response = openai.Completion.create(\n",
    "  model=\"gpt-3.5-turbo-instruct\",\n",
    "  prompt=create_prompt(question, df, max_token_count),\n",
    "  max_tokens=7,\n",
    "  temperature=0\n",
    ")\n",
    "\n",
    "print(response[\"choices\"][0][\"text\"])"
   ]
  }
 ],
 "metadata": {
  "kernelspec": {
   "display_name": "Python 3 (ipykernel)",
   "language": "python",
   "name": "python3"
  },
  "language_info": {
   "codemirror_mode": {
    "name": "ipython",
    "version": 3
   },
   "file_extension": ".py",
   "mimetype": "text/x-python",
   "name": "python",
   "nbconvert_exporter": "python",
   "pygments_lexer": "ipython3",
   "version": "3.9.18"
  }
 },
 "nbformat": 4,
 "nbformat_minor": 5
}
